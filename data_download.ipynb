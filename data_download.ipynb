{
 "cells": [
  {
   "cell_type": "code",
   "execution_count": 3,
   "metadata": {},
   "outputs": [
    {
     "name": "stdout",
     "output_type": "stream",
     "text": [
      "Looking in indexes: http://mirrors.tencentyun.com/pypi/simple\n",
      "Requirement already satisfied: wget in /opt/conda/envs/python3/lib/python3.6/site-packages (3.2)\n",
      "test.zip\n"
     ]
    }
   ],
   "source": [
    "!pip install wget\n",
    "import wget, tarfile\n",
    "filename = wget.download('https://tesla-ap-shanghai-1256322946.cos.ap-shanghai.myqcloud.com/cephfs/tesla_common/deeplearning/dataset/algo_contest/test.zip')\n",
    "print(filename)"
   ]
  },
  {
   "cell_type": "code",
   "execution_count": 5,
   "metadata": {},
   "outputs": [
    {
     "name": "stdout",
     "output_type": "stream",
     "text": [
      "test/\n",
      "test/ad.csv\n",
      "test/click_log.csv\n",
      "test/README\n"
     ]
    }
   ],
   "source": [
    "import zipfile\n",
    "zFile = zipfile.ZipFile(filename, \"r\")\n",
    "for fileM in zFile.namelist(): \n",
    "    zFile.extract(fileM, \"./\")\n",
    "    print(fileM)\n",
    "zFile.close();"
   ]
  },
  {
   "cell_type": "code",
   "execution_count": null,
   "metadata": {},
   "outputs": [],
   "source": []
  }
 ],
 "metadata": {
  "kernelspec": {
   "display_name": "conda_python3",
   "language": "python",
   "name": "conda_python3"
  },
  "language_info": {
   "codemirror_mode": {
    "name": "ipython",
    "version": 3
   },
   "file_extension": ".py",
   "mimetype": "text/x-python",
   "name": "python",
   "nbconvert_exporter": "python",
   "pygments_lexer": "ipython3",
   "version": "3.6.5"
  }
 },
 "nbformat": 4,
 "nbformat_minor": 4
}
